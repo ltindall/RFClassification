{
 "cells": [
  {
   "cell_type": "code",
   "execution_count": 1,
   "id": "0bc2ea42",
   "metadata": {},
   "outputs": [],
   "source": [
    "from sklearn.metrics import ConfusionMatrixDisplay\n",
    "\n",
    "from gamutrf_model import * \n",
    "from gamutrf_dataset import * "
   ]
  },
  {
   "cell_type": "code",
   "execution_count": 2,
   "id": "630d339a",
   "metadata": {},
   "outputs": [
    {
     "name": "stdout",
     "output_type": "stream",
     "text": [
      "label='drone', 5 files\n"
     ]
    },
    {
     "name": "stderr",
     "output_type": "stream",
     "text": [
      "100%|███████████████████████████████████████████████████████████████████████████████████████| 5/5 [00:00<00:00, 10.36it/s]\n"
     ]
    }
   ],
   "source": [
    "device = torch.device(\"cuda:0\" if torch.cuda.is_available() else \"cpu\")\n",
    "\n",
    "# MODEL PARAMS\n",
    "#weights_filepath = \"gamutRF/model_weights/resnet18_pdx_and_leesburg_0.02_3.pt\"\n",
    "weights_filepath = \"/home/ltindall/RFClassification/gamutRF/model_weights/resnet18_leesburg_split_0.02_1_current.pt\"\n",
    "\n",
    "# MODEL\n",
    "model = GamutRFModel(pretrained_weights=weights_filepath, device=device)\n",
    "model.eval()\n",
    "\n",
    "\n",
    "# DATASET PARAMS\n",
    "label_dirs= {\n",
    "    'drone': ([\n",
    "        '/home/ltindall/RFClassification/data/office/skydiox2/',\n",
    "        #'/home/ltindall/RFClassification/data/office/skydio2/',\n",
    "        #'/home/ltindall/RFClassification/data/office/mavic3/',\n",
    "        #'/home/ltindall/RFClassification/data/office/mini2/',\n",
    "        #'/home/ltindall/RFClassification/data/gamutrf-birdseye-field-days/leesburg_field_day_2022_06_15/worker1/',\n",
    "        #'/home/ltindall/RFClassification/data/gamutrf-birdseye-field-days/pdx_field_day_2022_05_26/worker1/gamutrf/'\n",
    "    ]), \n",
    "#     'wifi_2_4': ([\n",
    "#         '/home/ltindall/RFClassification/data/gamutrf-pdx/07_21_2022/wifi_2_4/',\n",
    "#     ]), \n",
    "#     'wifi_5': ([\n",
    "#         '/home/ltindall/RFClassification/data/gamutrf-pdx/07_21_2022/wifi_5/',\n",
    "#     ]),\n",
    "}\n",
    "batch_size = 1\n",
    "num_workers = 0\n",
    "\n",
    "# DATASET\n",
    "sample_secs = model.checkpoint[\"sample_secs\"]\n",
    "nfft = model.checkpoint[\"nfft\"]\n",
    "dataset = GamutRFDataset(label_dirs, sample_secs=sample_secs, nfft=nfft, idx_to_class=model.checkpoint[\"dataset_idx_to_class\"])\n",
    "\n",
    "#dataset,_ = torch.utils.data.random_split(data, [round(p * len(data)) for p in [0.001,0.999]])\n",
    "\n",
    "# DATALOADER\n",
    "dataloader = torch.utils.data.DataLoader(dataset, batch_size=batch_size, num_workers=num_workers)\n",
    "\n"
   ]
  },
  {
   "cell_type": "code",
   "execution_count": 3,
   "id": "65064aea",
   "metadata": {},
   "outputs": [
    {
     "name": "stdout",
     "output_type": "stream",
     "text": [
      "\n",
      "\n",
      "\n",
      "Loaded saved model /home/ltindall/RFClassification/gamutRF/model_weights/resnet18_leesburg_split_0.02_1_current.pt with the following training settings:\n",
      "Inference sample seconds = 0.02\n",
      "NFFT = 512\n",
      "Dataset class to idx mapping: {0: 'drone', 1: 'wifi_2_4', 2: 'wifi_5'}\n",
      "Training directories = {'drone': ['data/gamutrf-birdseye-field-days/leesburg_field_day_2022_06_15/worker1/', 'data/gamutrf-birdseye-field-days/pdx_field_day_2022_05_26/worker1/gamutrf/'], 'wifi_2_4': ['data/gamutrf-pdx/07_21_2022/wifi_2_4/'], 'wifi_5': ['data/gamutrf-pdx/07_21_2022/wifi_5/']}\n",
      "\n",
      "\n",
      "\n"
     ]
    },
    {
     "name": "stderr",
     "output_type": "stream",
     "text": [
      "100%|███████████████████████████████████████████████████████████████████████████████████| 255/255 [00:17<00:00, 14.61it/s]\n"
     ]
    },
    {
     "data": {
      "image/png": "[encoded data removed]",
      "text/plain": [
       "<Figure size 432x288 with 2 Axes>"
      ]
     },
     "metadata": {
      "needs_background": "light"
     },
     "output_type": "display_data"
    }
   ],
   "source": [
    "# INFERENCE\n",
    "predictions = []\n",
    "labels = []\n",
    "print(f\"\\n\\n\\nLoaded saved model {weights_filepath} with the following training settings:\")\n",
    "print(f\"Inference sample seconds = {sample_secs}\")\n",
    "print(f\"NFFT = {nfft}\")\n",
    "print(f\"Dataset class to idx mapping: {dataset.idx_to_class}\")\n",
    "print(f\"Training directories = {model.checkpoint['label_dirs']}\\n\\n\\n\")\n",
    "with torch.no_grad():\n",
    "    for j,(data,label) in enumerate(tqdm(dataloader)): \n",
    "        data = data.to(device)\n",
    "        label = label.to(device)\n",
    "\n",
    "        out = model(data)\n",
    "        _, prediction = torch.max(out, 1)\n",
    "        \n",
    "        predictions.extend(prediction.detach().cpu().numpy())\n",
    "        labels.extend(label.detach().cpu().numpy())\n",
    "\n",
    "        #correct = preds == label.data\n",
    "\n",
    "# Display results as confusion matrix \n",
    "disp = ConfusionMatrixDisplay.from_predictions(labels, predictions, display_labels=[model.checkpoint[\"dataset_idx_to_class\"][y] for y in np.unique(predictions+labels)], normalize='true')\n",
    "disp.figure_.savefig(f\"confusion_matrix_inference_{model.checkpoint['experiment_name']}.png\")\n"
   ]
  },
  {
   "cell_type": "code",
   "execution_count": 4,
   "id": "e2d5b775",
   "metadata": {},
   "outputs": [
    {
     "name": "stdout",
     "output_type": "stream",
     "text": [
      "[0, 0, 0, 0, 0, 0, 0, 0, 0, 0, 0, 0, 0, 0, 0, 0, 0, 0, 0, 0, 0, 0, 0, 0, 0, 0, 0, 0, 0, 0, 0, 0, 0, 0, 0, 0, 0, 0, 0, 0, 0, 0, 0, 0, 0, 0, 0, 0, 0, 0, 0, 0, 0, 0, 0, 0, 0, 0, 0, 0, 0, 0, 0, 0, 0, 0, 0, 0, 0, 0, 0, 0, 0, 0, 0, 0, 0, 0, 0, 0, 0, 0, 0, 0, 0, 0, 0, 0, 0, 0, 0, 0, 0, 0, 0, 0, 0, 0, 0, 0, 0, 0, 0, 0, 0, 0, 0, 0, 0, 0, 0, 0, 0, 0, 0, 0, 0, 0, 0, 0, 0, 0, 0, 0, 0, 0, 0, 0, 0, 0, 0, 0, 0, 0, 0, 0, 0, 0, 0, 0, 0, 0, 0, 0, 0, 0, 0, 0, 0, 0, 0, 0, 0, 0, 0, 0, 0, 0, 0, 0, 0, 0, 0, 0, 0, 0, 0, 0, 0, 0, 0, 0, 0, 0, 0, 0, 0, 0, 0, 0, 0, 0, 0, 0, 0, 0, 0, 0, 0, 0, 0, 0, 0, 0, 0, 0, 0, 0, 0, 0, 0, 0, 0, 0, 0, 0, 0, 0, 0, 0, 0, 0, 0, 0, 0, 0, 0, 0, 0, 0, 0, 0, 0, 0, 0, 0, 0, 0, 0, 0, 0, 0, 0, 0, 0, 0, 0, 0, 0, 0, 0, 0, 0, 0, 0, 0, 0, 0, 0, 0, 0, 0, 0, 0, 0]\n"
     ]
    }
   ],
   "source": [
    "print(labels)"
   ]
  },
  {
   "cell_type": "code",
   "execution_count": null,
   "id": "2ddd32cf",
   "metadata": {},
   "outputs": [],
   "source": []
  }
 ],
 "metadata": {
  "kernelspec": {
   "display_name": "Python 3 (ipykernel)",
   "language": "python",
   "name": "python3"
  },
  "language_info": {
   "codemirror_mode": {
    "name": "ipython",
    "version": 3
   },
   "file_extension": ".py",
   "mimetype": "text/x-python",
   "name": "python",
   "nbconvert_exporter": "python",
   "pygments_lexer": "ipython3",
   "version": "3.10.4"
  }
 },
 "nbformat": 4,
 "nbformat_minor": 5
}
