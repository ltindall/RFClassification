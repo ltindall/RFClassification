{
 "cells": [
  {
   "cell_type": "code",
   "execution_count": 1,
   "id": "d6d359bd",
   "metadata": {},
   "outputs": [],
   "source": [
    "import os\n",
    "import numpy as np \n",
    "import zstandard\n",
    "from tqdm import tqdm\n",
    "import torch\n",
    "from scipy import signal\n",
    "from scipy.ndimage import uniform_filter1d\n",
    "import matplotlib\n",
    "import matplotlib.pyplot as plt\n",
    "from timeit import default_timer as timer\n",
    "import torchvision\n",
    "from torchvision import datasets, models, transforms\n",
    "from sklearn.metrics import confusion_matrix, ConfusionMatrixDisplay\n",
    "import skimage.filters\n",
    "import skimage.measure    \n",
    "from gamutRF.gamutrf_dataset import * \n",
    "\n",
    "from gamutrf.sample_reader import get_reader\n",
    "from gamutrf.utils import parse_filename "
   ]
  },
  {
   "cell_type": "code",
   "execution_count": 2,
   "id": "f4e45fb4",
   "metadata": {},
   "outputs": [
    {
     "name": "stdout",
     "output_type": "stream",
     "text": [
      "\n",
      "Generating IQ from 0.02 second chunks of signal data with 512 length FFTs.\n",
      "\n",
      "Loading filenames...\n",
      "label='home', 1 files\n",
      "labeled_filenames={'home': ['data/home/samples_1678913745_950000000Hz_100000000sps.raw.zst']}\n",
      "\n",
      "Loading data...\n"
     ]
    },
    {
     "name": "stderr",
     "output_type": "stream",
     "text": [
      "  0%|                                                                                       | 0/1 [00:00<?, ?it/s]"
     ]
    },
    {
     "name": "stdout",
     "output_type": "stream",
     "text": [
      "[]\n"
     ]
    },
    {
     "name": "stderr",
     "output_type": "stream",
     "text": [
      "\n"
     ]
    },
    {
     "ename": "IndexError",
     "evalue": "tuple index out of range",
     "output_type": "error",
     "traceback": [
      "\u001b[0;31m---------------------------------------------------------------------------\u001b[0m",
      "\u001b[0;31mIndexError\u001b[0m                                Traceback (most recent call last)",
      "Input \u001b[0;32mIn [2]\u001b[0m, in \u001b[0;36m<cell line: 14>\u001b[0;34m()\u001b[0m\n\u001b[1;32m     10\u001b[0m batch_size \u001b[38;5;241m=\u001b[39m \u001b[38;5;241m8\u001b[39m\n\u001b[1;32m     11\u001b[0m num_workers \u001b[38;5;241m=\u001b[39m \u001b[38;5;241m0\u001b[39m\n\u001b[0;32m---> 14\u001b[0m dataset \u001b[38;5;241m=\u001b[39m \u001b[43mGamutRFDataset\u001b[49m\u001b[43m(\u001b[49m\u001b[43mlabel_dirs\u001b[49m\u001b[43m,\u001b[49m\u001b[43m \u001b[49m\u001b[43msample_secs\u001b[49m\u001b[38;5;241;43m=\u001b[39;49m\u001b[43msample_secs\u001b[49m\u001b[43m,\u001b[49m\u001b[43m \u001b[49m\u001b[43mnfft\u001b[49m\u001b[38;5;241;43m=\u001b[39;49m\u001b[43mnfft\u001b[49m\u001b[43m,\u001b[49m\u001b[43m \u001b[49m\u001b[43mfeat\u001b[49m\u001b[38;5;241;43m=\u001b[39;49m\u001b[38;5;124;43m\"\u001b[39;49m\u001b[38;5;124;43miq\u001b[39;49m\u001b[38;5;124;43m\"\u001b[39;49m\u001b[43m)\u001b[49m\n",
      "File \u001b[0;32m~/RFClassification/gamutRF/gamutrf_dataset.py:29\u001b[0m, in \u001b[0;36mGamutRFDataset.__init__\u001b[0;34m(self, label_dirs, sample_secs, nfft, feat, transform, idx_to_class)\u001b[0m\n\u001b[1;32m     27\u001b[0m \u001b[38;5;28mprint\u001b[39m(\u001b[38;5;124mf\u001b[39m\u001b[38;5;124m\"\u001b[39m\u001b[38;5;132;01m{\u001b[39;00mlabeled_filenames\u001b[38;5;132;01m=}\u001b[39;00m\u001b[38;5;124m\"\u001b[39m)\n\u001b[1;32m     28\u001b[0m \u001b[38;5;28mprint\u001b[39m(\u001b[38;5;124m\"\u001b[39m\u001b[38;5;130;01m\\n\u001b[39;00m\u001b[38;5;124mLoading data...\u001b[39m\u001b[38;5;124m\"\u001b[39m)\n\u001b[0;32m---> 29\u001b[0m \u001b[38;5;28mself\u001b[39m\u001b[38;5;241m.\u001b[39midx \u001b[38;5;241m=\u001b[39m \u001b[38;5;28;43mself\u001b[39;49m\u001b[38;5;241;43m.\u001b[39;49m\u001b[43midx_info\u001b[49m\u001b[43m(\u001b[49m\u001b[43mlabeled_filenames\u001b[49m\u001b[43m,\u001b[49m\u001b[43m \u001b[49m\u001b[43msample_secs\u001b[49m\u001b[43m)\u001b[49m\n\u001b[1;32m     31\u001b[0m \u001b[38;5;28mself\u001b[39m\u001b[38;5;241m.\u001b[39midx_to_class \u001b[38;5;241m=\u001b[39m idx_to_class\n\u001b[1;32m     32\u001b[0m \u001b[38;5;28;01mif\u001b[39;00m \u001b[38;5;28mself\u001b[39m\u001b[38;5;241m.\u001b[39midx_to_class \u001b[38;5;129;01mis\u001b[39;00m \u001b[38;5;28;01mNone\u001b[39;00m: \n",
      "File \u001b[0;32m~/RFClassification/gamutRF/gamutrf_dataset.py:124\u001b[0m, in \u001b[0;36mGamutRFDataset.idx_info\u001b[0;34m(self, labeled_filenames, sample_secs)\u001b[0m\n\u001b[1;32m    122\u001b[0m file_idx \u001b[38;5;241m=\u001b[39m np\u001b[38;5;241m.\u001b[39mload(idx_filename)\n\u001b[1;32m    123\u001b[0m \u001b[38;5;28mprint\u001b[39m(file_idx)\n\u001b[0;32m--> 124\u001b[0m \u001b[38;5;28;01mif\u001b[39;00m \u001b[43mfile_idx\u001b[49m\u001b[38;5;241;43m.\u001b[39;49m\u001b[43mshape\u001b[49m\u001b[43m[\u001b[49m\u001b[38;5;241;43m1\u001b[39;49m\u001b[43m]\u001b[49m \u001b[38;5;241m==\u001b[39m \u001b[38;5;241m3\u001b[39m: \n\u001b[1;32m    125\u001b[0m     file_idx[:,\u001b[38;5;241m0\u001b[39m] \u001b[38;5;241m=\u001b[39m label\n\u001b[1;32m    126\u001b[0m \u001b[38;5;28;01melse\u001b[39;00m: \n",
      "\u001b[0;31mIndexError\u001b[0m: tuple index out of range"
     ]
    }
   ],
   "source": [
    "label_dirs= {\n",
    "     #'drone': ['data/gamutrf-birdseye-field-days/leesburg_field_day_2022_06_15/worker1/','data/gamutrf-birdseye-field-days/pdx_field_day_2022_05_26/worker1/gamutrf/'], \n",
    "     #'wifi_2_4': ['data/gamutrf-pdx/07_21_2022/wifi_2_4/'], \n",
    "#     'wifi_5': ['data/gamutrf-pdx/07_21_2022/wifi_5/']\n",
    "   # 'mavic3': ['data/office/']\n",
    "    'home': ['data/home/']\n",
    "}\n",
    "sample_secs = 0.02\n",
    "nfft = 512\n",
    "batch_size = 8\n",
    "num_workers = 0\n",
    "\n",
    "\n",
    "dataset = GamutRFDataset(label_dirs, sample_secs=sample_secs, nfft=nfft, feat=\"iq\")\n"
   ]
  },
  {
   "cell_type": "code",
   "execution_count": null,
   "id": "47814992",
   "metadata": {},
   "outputs": [],
   "source": [
    "torch.max(dataset[0][0])"
   ]
  },
  {
   "cell_type": "code",
   "execution_count": null,
   "id": "fa9d6e60",
   "metadata": {},
   "outputs": [],
   "source": [
    "def debug2(dataset, i):\n",
    "    idx = dataset.idx[i]\n",
    "    label_str = idx[0]\n",
    "    filename = idx[1]\n",
    "    byte_offset = idx[2]\n",
    "    req_center, sample_rate, sample_dtype, sample_bytes, sample_type, sample_bits = parse_filename(filename)\n",
    "    samples = dataset.read_recording(filename, sample_rate, sample_dtype, sample_bytes, dataset.sample_secs, seek_bytes=byte_offset)\n",
    "    \n",
    "    f, psd = signal.welch(samples, sample_rate, window=signal.hann(dataset.nfft, sym=False), nperseg=dataset.nfft, return_onesided=False)\n",
    "    f = np.fft.fftshift(f)\n",
    "    psd = np.fft.fftshift(psd)\n",
    "    \n",
    "    plt.figure(figsize=(12,6))\n",
    "    \n",
    "    \n",
    "    smooth_psd = uniform_filter1d(psd, 5)\n",
    "    plt.plot(f,smooth_psd)\n",
    "    plt.plot(f, psd)\n",
    "    peaks, _ = signal.find_peaks(smooth_psd, distance=40, prominence=0.0001, height=np.mean(psd))\n",
    "    plt.plot(f[peaks], smooth_psd[peaks], 'x', markersize=12, markeredgewidth=4, label='peaks')\n",
    "    \n",
    "    thresh_top    = np.mean(psd) + 1 * np.std(psd)\n",
    "    plt.plot(f,np.ones_like(f)*thresh_top, '--', label='thresh')\n",
    "    plt.plot(f,np.ones_like(f)*np.median(psd), '--', label='median')\n",
    "    plt.plot(f,np.ones_like(f)*np.mean(psd), '--', label='mean')\n",
    "    plt.legend()\n",
    "    plt.show()\n",
    "    \n",
    "    entropy = skimage.measure.shannon_entropy(psd)\n",
    "    print(f\"{signaltonoise(psd)=}\")\n",
    "    print(entropy)\n",
    "    return samples\n",
    "\n",
    "debug2(dataset, 1).shape"
   ]
  },
  {
   "cell_type": "code",
   "execution_count": null,
   "id": "880e71ab",
   "metadata": {
    "scrolled": false
   },
   "outputs": [],
   "source": [
    "dataset.debug(10)"
   ]
  },
  {
   "cell_type": "code",
   "execution_count": null,
   "id": "c9e93862",
   "metadata": {},
   "outputs": [],
   "source": []
  },
  {
   "cell_type": "code",
   "execution_count": null,
   "id": "764d7e65",
   "metadata": {
    "scrolled": false
   },
   "outputs": [],
   "source": [
    "def signaltonoise(a, axis=0, ddof=0):\n",
    "#     a = np.asanyarray(a)\n",
    "#     m = a.mean(axis)\n",
    "#     sd = a.std(axis=axis, ddof=ddof)\n",
    "#     return np.where(sd == 0, 0, m/sd)\n",
    "    a = np.asanyarray(a)\n",
    "    m = np.mean(a)\n",
    "    sd = np.std(a)\n",
    "    return np.where(sd == 0, 0, m/sd)\n",
    "\n",
    "def snr(signal, noise): \n",
    "    return np.mean(signal) - np.mean(noise)\n",
    "\n",
    "for i in np.random.randint(len(dataset), size=10): \n",
    "    img, label, S = dataset[i]\n",
    "    print(f\"{i=}\")\n",
    "    print(f\"{np.mean(S)=}\")\n",
    "    \n",
    "    #print(f\"{signaltonoise(S)=}\")\n",
    "    original = S.copy() \n",
    "    \n",
    "    # convert the image to grayscale\n",
    "    #gray_image = skimage.color.rgb2gray(S)\n",
    "    # blur the image to denoise\n",
    "    S = (S-np.min(S))/(np.max(S) - np.min(S))\n",
    "    blurred_image = skimage.filters.gaussian(S, sigma=1.0)\n",
    "    t = skimage.filters.threshold_otsu(blurred_image)\n",
    "    \n",
    "    \n",
    "    plt.imshow(S, aspect='auto', origin='lower')\n",
    "    plt.colorbar()\n",
    "    plt.show()\n",
    "    \n",
    "    # convert the image to grayscale\n",
    "    #gray_image = skimage.color.rgb2gray(S)\n",
    "    # blur the image to denoise\n",
    "    blurred_image = skimage.filters.gaussian(S, sigma=1.0)\n",
    "    t = skimage.filters.threshold_otsu(blurred_image)  \n",
    "    \n",
    "    # create a binary mask with the threshold found by Otsu's method\n",
    "    binary_mask = blurred_image > t\n",
    "\n",
    "    plt.imshow(binary_mask, cmap=\"gray\", aspect='auto', origin='lower')\n",
    "    plt.show()\n",
    "    \n",
    "    \n",
    "    selection = S.copy()\n",
    "    print(f\"{np.mean(original[binary_mask])=}\")\n",
    "    print(f\"{np.mean(original[~binary_mask])=}\")\n",
    "    print(f\"{snr(original[binary_mask], original[~binary_mask])=}\")\n",
    "    \n",
    "    selection[~binary_mask] = 0\n",
    "\n",
    "    fig, ax = plt.subplots()\n",
    "    plt.imshow(selection, aspect='auto', origin='lower')\n",
    "    plt.show()\n",
    "    \n"
   ]
  },
  {
   "cell_type": "code",
   "execution_count": null,
   "id": "4cc2e900",
   "metadata": {},
   "outputs": [],
   "source": [
    "np.mean(S)"
   ]
  },
  {
   "cell_type": "code",
   "execution_count": null,
   "id": "12ff06ab",
   "metadata": {},
   "outputs": [],
   "source": [
    "len(dataset)"
   ]
  },
  {
   "cell_type": "code",
   "execution_count": null,
   "id": "5fe4b193",
   "metadata": {},
   "outputs": [],
   "source": []
  }
 ],
 "metadata": {
  "kernelspec": {
   "display_name": "Python 3 (ipykernel)",
   "language": "python",
   "name": "python3"
  },
  "language_info": {
   "codemirror_mode": {
    "name": "ipython",
    "version": 3
   },
   "file_extension": ".py",
   "mimetype": "text/x-python",
   "name": "python",
   "nbconvert_exporter": "python",
   "pygments_lexer": "ipython3",
   "version": "3.10.4"
  }
 },
 "nbformat": 4,
 "nbformat_minor": 5
}
